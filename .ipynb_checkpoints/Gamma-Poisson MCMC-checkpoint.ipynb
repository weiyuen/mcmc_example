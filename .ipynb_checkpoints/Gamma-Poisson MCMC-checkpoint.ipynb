{
 "cells": [
  {
   "cell_type": "markdown",
   "metadata": {},
   "source": [
    "## Gamma-Poisson Markov Chain Monte Carlo Implementation\n",
    "\n",
    "This notebook implements the MCMC example found in Chapter 13 of Bayesian Statistics for Beginners: A Step-by-Step Approach (Donovan & Mickey)."
   ]
  },
  {
   "cell_type": "code",
   "execution_count": 1,
   "metadata": {},
   "outputs": [],
   "source": [
    "import matplotlib.pyplot as plt\n",
    "import numpy as np\n",
    "\n",
    "from scipy import stats\n",
    "from tqdm.notebook import tqdm\n",
    "\n",
    "\n",
    "class MCMC():\n",
    "    def __init__(self, prior_fn, a_0, b_0, sigma=1):\n",
    "        self.prior_fn = prior_fn\n",
    "        self.a_0 = a_0\n",
    "        self.b_0 = b_0\n",
    "        self.sigma = sigma\n",
    "        self.accepted = 0\n",
    "    \n",
    "    def run_simul(self, n_steps, data):\n",
    "        self.points = []\n",
    "        # randomly initialize l_c\n",
    "        l_c = self.prior_fn.rvs(self.a_0, scale=1/self.b_0)\n",
    "        for i in tqdm(range(n_steps)):\n",
    "            self.points.append(l_c)\n",
    "            l_c = self.mcmc_step(self.prior_fn, l_c, data)\n",
    "            \n",
    "        self.accepted = self.accepted / n_steps\n",
    "            \n",
    "    def mcmc_step(self, prior_fn, l_c, data):\n",
    "        likelihood_c = stats.poisson.pmf(data, l_c)\n",
    "        prior_c = self.prior_fn.pdf(l_c, self.a_0, scale=1/self.b_0)\n",
    "        density_c = likelihood_c * prior_c\n",
    "        \n",
    "        # Sample l_p from normal distribution\n",
    "        l_p = np.random.normal(l_c, self.sigma)\n",
    "        \n",
    "        likelihood_p = stats.poisson.pmf(data, l_p)\n",
    "        prior_p = self.prior_fn.pdf(l_p, self.a_0, scale=1/self.b_0)\n",
    "        density_p = likelihood_p * prior_p\n",
    "        \n",
    "        if self.metropolis_alg(density_c, density_p):\n",
    "            l_c = l_p\n",
    "            self.accepted += 1\n",
    "            \n",
    "        return l_c\n",
    "    \n",
    "    def metropolis_alg(self, density_c, density_p):\n",
    "        '''\n",
    "        Returns True if l_p should be accepted.\n",
    "        '''\n",
    "        if density_p >= density_c:\n",
    "            result = True\n",
    "        else:\n",
    "            ratio = density_p / density_c\n",
    "            result = True if np.random.rand() < ratio else False\n",
    "        \n",
    "        return result"
   ]
  },
  {
   "cell_type": "code",
   "execution_count": 2,
   "metadata": {},
   "outputs": [],
   "source": [
    "prior_fn = stats.gamma\n",
    "a_0 = 2.1\n",
    "b_0 = 1\n",
    "\n",
    "mcmc = MCMC(prior_fn, a_0, b_0, sigma=3)"
   ]
  },
  {
   "cell_type": "code",
   "execution_count": 3,
   "metadata": {},
   "outputs": [
    {
     "data": {
      "application/vnd.jupyter.widget-view+json": {
       "model_id": "6d5739a4e0ae475c9877b69cee18153e",
       "version_major": 2,
       "version_minor": 0
      },
      "text/plain": [
       "  0%|          | 0/10000 [00:00<?, ?it/s]"
      ]
     },
     "metadata": {},
     "output_type": "display_data"
    }
   ],
   "source": [
    "mcmc.run_simul(10000, data=5)"
   ]
  },
  {
   "cell_type": "code",
   "execution_count": 4,
   "metadata": {},
   "outputs": [
    {
     "data": {
      "text/plain": [
       "0.4567"
      ]
     },
     "execution_count": 4,
     "metadata": {},
     "output_type": "execute_result"
    }
   ],
   "source": [
    "# Proportion of accepted proposals\n",
    "mcmc.accepted"
   ]
  },
  {
   "cell_type": "code",
   "execution_count": 5,
   "metadata": {},
   "outputs": [
    {
     "data": {
      "image/png": "[encoded data removed]",
      "text/plain": [
       "<Figure size 432x288 with 1 Axes>"
      ]
     },
     "metadata": {
      "needs_background": "light"
     },
     "output_type": "display_data"
    }
   ],
   "source": [
    "fig, ax = plt.subplots(1, 1)\n",
    "\n",
    "# prior distribution hparams\n",
    "a_0 = 2.1\n",
    "rate_0 = 1\n",
    "\n",
    "# posterior distribution hparams\n",
    "a = 7.1\n",
    "rate = 2\n",
    "\n",
    "x = np.linspace(0, 10, 100)\n",
    "ax.plot(x, stats.gamma.pdf(x, a_0, scale=1/rate_0),\n",
    "       'r-', lw=5, alpha=0.6, label='gamma pdf')\n",
    "ax.plot(x, stats.gamma.pdf(x, a, scale=1/rate),\n",
    "       'm-', lw=5, alpha=0.6, label='gamma pdf')\n",
    "ax.hist(mcmc.points, bins=100, density=True)\n",
    "plt.ylim(0, 1)\n",
    "plt.show()"
   ]
  }
 ],
 "metadata": {
  "kernelspec": {
   "display_name": "local-venv",
   "language": "python",
   "name": "local-venv"
  },
  "language_info": {
   "codemirror_mode": {
    "name": "ipython",
    "version": 3
   },
   "file_extension": ".py",
   "mimetype": "text/x-python",
   "name": "python",
   "nbconvert_exporter": "python",
   "pygments_lexer": "ipython3",
   "version": "3.8.0"
  }
 },
 "nbformat": 4,
 "nbformat_minor": 4
}
